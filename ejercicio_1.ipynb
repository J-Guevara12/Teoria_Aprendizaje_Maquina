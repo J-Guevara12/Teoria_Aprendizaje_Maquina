{
  "nbformat": 4,
  "nbformat_minor": 0,
  "metadata": {
    "colab": {
      "provenance": []
    },
    "kernelspec": {
      "name": "python3",
      "display_name": "Python 3"
    },
    "language_info": {
      "name": "python"
    }
  },
  "cells": [
    {
      "cell_type": "code",
      "execution_count": 58,
      "metadata": {
        "id": "EgpJTdc1RUnF"
      },
      "outputs": [],
      "source": [
        "class Predictor:\n",
        "  def __init__(self, cajas_frutas, prob_cajas):\n",
        "    self.orden = len(cajas_frutas)\n",
        "    assert len(cajas_frutas) == len(prob_cajas), \"Los dos vectores tienen longitud diferente\"\n",
        "    self.cajas = cajas_frutas\n",
        "    self.probs = prob_cajas\n",
        "    self.total = 0\n",
        "    for caja in cajas_frutas:\n",
        "      self.total += sum(caja)\n",
        "\n",
        "  def prob_condicional_fruta_caja(self, fruta, caja):\n",
        "    return self.cajas[caja][fruta]/sum(self.cajas[caja])\n",
        "\n",
        "  def prob_marginal_fruta(self, fruta):\n",
        "    total = 0\n",
        "    for i in range(self.orden):\n",
        "      total +=  self.prob_condicional_fruta_caja(fruta, i) * self.probs[i]\n",
        "    return total\n",
        "\n",
        "  def prob_condicional_caja_fruta(self, caja, fruta):\n",
        "    return self.prob_condicional_fruta_caja(fruta, caja)*self.probs[caja]/self.prob_marginal_fruta(fruta)\n",
        ""
      ]
    },
    {
      "cell_type": "code",
      "source": [
        "cajas = [[6,2], [1, 3]]\n",
        "probas = [0.4, 0.6]\n",
        "pred = Predictor(cajas, probas)\n",
        "pred.prob_marginal_fruta(0)"
      ],
      "metadata": {
        "colab": {
          "base_uri": "https://localhost:8080/"
        },
        "id": "xQt4uHZ6SKdK",
        "outputId": "18a4e2ea-6d34-4c0d-9df2-1994c133875d"
      },
      "execution_count": 59,
      "outputs": [
        {
          "output_type": "execute_result",
          "data": {
            "text/plain": [
              "0.45000000000000007"
            ]
          },
          "metadata": {},
          "execution_count": 59
        }
      ]
    },
    {
      "cell_type": "code",
      "source": [
        "labels_frutas = [\"Naranja\", \"Manzana\"]\n",
        "labels_cajas = [\"Roja\", \"Azul\"]\n",
        "for i, fruta in enumerate(labels_frutas):\n",
        "  print(f\"P(F={fruta}) = {round(pred.prob_marginal_fruta(i), 3)}\")\n",
        "for i, fruta in enumerate(labels_frutas):\n",
        "  for j, caja in enumerate(labels_cajas):\n",
        "    print(f\"P(B={caja}|F={fruta}) = {round(pred.prob_condicional_caja_fruta(j, i), 3)}\")"
      ],
      "metadata": {
        "colab": {
          "base_uri": "https://localhost:8080/"
        },
        "id": "Odrpm3ciV8mg",
        "outputId": "1b6ec276-56f2-4496-cc02-a3180d19b9ac"
      },
      "execution_count": 67,
      "outputs": [
        {
          "output_type": "stream",
          "name": "stdout",
          "text": [
            "P(F=Naranja) = 0.45\n",
            "P(F=Manzana) = 0.55\n",
            "P(B=Roja|F=Naranja) = 0.667\n",
            "P(B=Azul|F=Naranja) = 0.333\n",
            "P(B=Roja|F=Manzana) = 0.182\n",
            "P(B=Azul|F=Manzana) = 0.818\n"
          ]
        }
      ]
    },
    {
      "cell_type": "code",
      "source": [
        "cajas = [[6,2, 4], [1, 3, 2], [2, 3, 1]]\n",
        "probas = [0.4, 0.6, 0.1]\n",
        "pred = Predictor(cajas, probas)\n",
        "labels_frutas = [\"Naranja\", \"Manzana\", \"Melón\"]\n",
        "labels_cajas = [\"Roja\", \"Azul\", \"Amarilla\"]\n",
        "for i, fruta in enumerate(labels_frutas):\n",
        "  print(f\"P(F={fruta}) = {round(pred.prob_marginal_fruta(i), 3)}\")\n",
        "for i, fruta in enumerate(labels_frutas):\n",
        "  for j, caja in enumerate(labels_cajas):\n",
        "    print(f\"P(B={caja}|F={fruta}) = {round(pred.prob_condicional_caja_fruta(j, i), 3)}\")"
      ],
      "metadata": {
        "colab": {
          "base_uri": "https://localhost:8080/"
        },
        "id": "Hw_mjvdbaV6D",
        "outputId": "d6488f89-cdd9-45b5-8082-967a5753a31c"
      },
      "execution_count": 68,
      "outputs": [
        {
          "output_type": "stream",
          "name": "stdout",
          "text": [
            "P(F=Naranja) = 0.333\n",
            "P(F=Manzana) = 0.417\n",
            "P(F=Melón) = 0.35\n",
            "P(B=Roja|F=Naranja) = 0.6\n",
            "P(B=Azul|F=Naranja) = 0.3\n",
            "P(B=Amarilla|F=Naranja) = 0.1\n",
            "P(B=Roja|F=Manzana) = 0.16\n",
            "P(B=Azul|F=Manzana) = 0.72\n",
            "P(B=Amarilla|F=Manzana) = 0.12\n",
            "P(B=Roja|F=Melón) = 0.381\n",
            "P(B=Azul|F=Melón) = 0.571\n",
            "P(B=Amarilla|F=Melón) = 0.048\n"
          ]
        }
      ]
    }
  ]
}